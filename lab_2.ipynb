{
  "nbformat": 4,
  "nbformat_minor": 0,
  "metadata": {
    "colab": {
      "provenance": [],
      "authorship_tag": "ABX9TyPdPpHPAAN9iksuZzXthrQr",
      "include_colab_link": true
    },
    "kernelspec": {
      "name": "python3",
      "display_name": "Python 3"
    },
    "language_info": {
      "name": "python"
    }
  },
  "cells": [
    {
      "cell_type": "markdown",
      "metadata": {
        "id": "view-in-github",
        "colab_type": "text"
      },
      "source": [
        "<a href=\"https://colab.research.google.com/github/ArturoTphx/analisis-datos/blob/main/lab_2.ipynb\" target=\"_parent\"><img src=\"https://colab.research.google.com/assets/colab-badge.svg\" alt=\"Open In Colab\"/></a>"
      ]
    },
    {
      "cell_type": "code",
      "execution_count": null,
      "metadata": {
        "colab": {
          "base_uri": "https://localhost:8080/"
        },
        "id": "DP4qpKwf3ALu",
        "outputId": "d5d9d55a-94bc-4ee5-882f-0fd6473c6eda"
      },
      "outputs": [
        {
          "output_type": "stream",
          "name": "stdout",
          "text": [
            "--------------------\n",
            "Ejemplo2: IMPRIMIR EL MENOR DE DOS NÚMEROS\n",
            "--------------------\n",
            "Ingrese dos números: \n",
            "Primer número: 2\n",
            "Segundo número: 3\n",
            "\n",
            "Salida\n",
            "--------------------\n",
            "El menor es:  2\n"
          ]
        }
      ],
      "source": [
        "# Decoración: Nombre del algoritmo\n",
        "print(\"-\" * 20)\n",
        "print(\"Ejemplo2: IMPRIMIR EL MENOR DE DOS NÚMEROS\")\n",
        "print(\"-\" * 20)\n",
        "# Entradas\n",
        "print(\"Ingrese dos números: \")\n",
        "x = int(input(\"Primer número: \"))\n",
        "y = int(input(\"Segundo número: \"))\n",
        "print(\"\\nSalida\")\n",
        "print(\"-\" * 20)\n",
        "# No olvidar la identación\n",
        "if x > y:\n",
        "  print(\"El menor es: \", y)\n",
        "else:\n",
        "  print(\"El menor es: \", x)"
      ]
    },
    {
      "cell_type": "code",
      "source": [
        "switcher = { 1: \"Enero\", 2: \"Febrero\", 3: \"Marzo\", 4: \"Abril\", 5: \"Mayo\", 6: \"Junio\", 7: \"Julio\", 8: \"Agosto\", 9: \"Setiembre\", 10: \"Octubre\", 11: \"Noviembre\", 12: \"Diciembre\"}\n",
        "\n",
        "argument = int(input(\"Ingrese un número:\"))\n",
        "nameMes = switcher.get(argument, \"Mes inválido\")\n",
        "print(nameMes)"
      ],
      "metadata": {
        "id": "OLDlLhi55xn2",
        "colab": {
          "base_uri": "https://localhost:8080/"
        },
        "outputId": "7e68eb24-cd31-451f-895c-9b45478a0b35"
      },
      "execution_count": null,
      "outputs": [
        {
          "output_type": "stream",
          "name": "stdout",
          "text": [
            "Ingrese un número:1\n",
            "Enero\n"
          ]
        }
      ]
    }
  ]
}