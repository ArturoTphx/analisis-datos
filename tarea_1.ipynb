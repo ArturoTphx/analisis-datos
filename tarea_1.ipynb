{
  "nbformat": 4,
  "nbformat_minor": 0,
  "metadata": {
    "colab": {
      "provenance": [],
      "authorship_tag": "ABX9TyMjp+sNQ5E+DVvIHTzLBBap",
      "include_colab_link": true
    },
    "kernelspec": {
      "name": "python3",
      "display_name": "Python 3"
    },
    "language_info": {
      "name": "python"
    }
  },
  "cells": [
    {
      "cell_type": "markdown",
      "metadata": {
        "id": "view-in-github",
        "colab_type": "text"
      },
      "source": [
        "<a href=\"https://colab.research.google.com/github/ArturoTphx/analisis-datos/blob/main/tarea_1.ipynb\" target=\"_parent\"><img src=\"https://colab.research.google.com/assets/colab-badge.svg\" alt=\"Open In Colab\"/></a>"
      ]
    },
    {
      "cell_type": "code",
      "execution_count": null,
      "metadata": {
        "colab": {
          "base_uri": "https://localhost:8080/"
        },
        "id": "ZsWWItm6taJf",
        "outputId": "976d683a-f875-487b-fca2-cf9ddef7a8c4"
      },
      "outputs": [
        {
          "output_type": "stream",
          "name": "stdout",
          "text": [
            "Ejercicio Bisiesto\n",
            "Ingresar el año: 2021\n",
            "El año no es Bisiesto\n"
          ]
        }
      ],
      "source": [
        "print(\"Ejercicio Bisiesto\")\n",
        "anio = int(input(\"Ingresar el año: \"))\n",
        "if(anio % 400 == 0) or (anio % 4 == 0) and (anio % 100 != 0):\n",
        "  print(\"El año es Bisiesto\")\n",
        "else:\n",
        "  print(\"El año no es Bisiesto\")"
      ]
    },
    {
      "cell_type": "code",
      "source": [
        "switcher = { 1: \"Enero\", 2: \"Febrero\", 3: \"Marzo\", 4: \"Abril\", 5: \"Mayo\", 6: \"Junio\", 7: \"Julio\", 8: \"Agosto\", 9: \"Setiembre\", 10: \"Octubre\", 11: \"Noviembre\", 12: \"Diciembre\"}\n",
        "argument = int(input(\"Ingrese un número: \"))\n",
        "nombreMes = switcher.get(argument, \"Mes inválido\")\n",
        "print(nombreMes)"
      ],
      "metadata": {
        "colab": {
          "base_uri": "https://localhost:8080/"
        },
        "id": "0S1581LguO51",
        "outputId": "6e619fa9-74d9-4553-c232-94cb7d372c9f"
      },
      "execution_count": null,
      "outputs": [
        {
          "output_type": "stream",
          "name": "stdout",
          "text": [
            "Ingrese un número: 10\n",
            "Octubre\n"
          ]
        }
      ]
    },
    {
      "cell_type": "code",
      "source": [
        "C=-1\n",
        "I=0\n",
        "M=0\n",
        "while (C<0) or (I<=0) or (I>=100) or (M<=0):\n",
        "  print(\"Introduce el capital, el interés, y el tiempo apropiados\")\n",
        "  C=int(input(\"Capital: \"))\n",
        "  I=int(input(\"Interés: \"))\n",
        "  M=int(input(\"Tiempo en anios: \"))\n",
        "\n",
        "for i in range(M):\n",
        "  C = C * (1 + I/100)\n",
        "  print(\"Monto \", C, \" Colones\")"
      ],
      "metadata": {
        "colab": {
          "base_uri": "https://localhost:8080/"
        },
        "id": "ucdL4S7Ju-Bn",
        "outputId": "d6c641de-b887-424d-d548-db7b47432168"
      },
      "execution_count": null,
      "outputs": [
        {
          "output_type": "stream",
          "name": "stdout",
          "text": [
            "Introduce el capital, el interés, y el tiempo apropiados\n",
            "Capital: 1000\n",
            "Interés: 10\n",
            "Tiempo en anios: 20\n",
            "Monto  1100.0  Colones\n",
            "Monto  1210.0  Colones\n",
            "Monto  1331.0  Colones\n",
            "Monto  1464.1000000000001  Colones\n",
            "Monto  1610.5100000000002  Colones\n",
            "Monto  1771.5610000000004  Colones\n",
            "Monto  1948.7171000000005  Colones\n",
            "Monto  2143.5888100000006  Colones\n",
            "Monto  2357.9476910000008  Colones\n",
            "Monto  2593.742460100001  Colones\n",
            "Monto  2853.1167061100014  Colones\n",
            "Monto  3138.4283767210018  Colones\n",
            "Monto  3452.271214393102  Colones\n",
            "Monto  3797.4983358324125  Colones\n",
            "Monto  4177.248169415654  Colones\n",
            "Monto  4594.97298635722  Colones\n",
            "Monto  5054.470284992943  Colones\n",
            "Monto  5559.917313492238  Colones\n",
            "Monto  6115.909044841462  Colones\n",
            "Monto  6727.499949325608  Colones\n"
          ]
        }
      ]
    },
    {
      "cell_type": "code",
      "source": [
        "numero = int(input(\"Digite un número: \"))\n",
        "\n",
        "sum = 0\n",
        "for i in range(1, numero + 1):\n",
        "  if(numero%i == 0):\n",
        "    sum=sum+i\n",
        "print(sum)"
      ],
      "metadata": {
        "colab": {
          "base_uri": "https://localhost:8080/"
        },
        "id": "eO-pY6sywIe1",
        "outputId": "1386723d-7f06-4271-9fc1-749349054e7a"
      },
      "execution_count": null,
      "outputs": [
        {
          "output_type": "stream",
          "name": "stdout",
          "text": [
            "Digite un número: 10\n",
            "18\n"
          ]
        }
      ]
    }
  ]
}