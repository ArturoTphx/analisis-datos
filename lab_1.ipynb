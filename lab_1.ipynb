{
  "nbformat": 4,
  "nbformat_minor": 0,
  "metadata": {
    "colab": {
      "provenance": [],
      "authorship_tag": "ABX9TyP4fPUmHd/Tq6OOx8/hoXk8",
      "include_colab_link": true
    },
    "kernelspec": {
      "name": "python3",
      "display_name": "Python 3"
    },
    "language_info": {
      "name": "python"
    }
  },
  "cells": [
    {
      "cell_type": "markdown",
      "metadata": {
        "id": "view-in-github",
        "colab_type": "text"
      },
      "source": [
        "<a href=\"https://colab.research.google.com/github/ArturoTphx/analisis-datos/blob/main/lab_1.ipynb\" target=\"_parent\"><img src=\"https://colab.research.google.com/assets/colab-badge.svg\" alt=\"Open In Colab\"/></a>"
      ]
    },
    {
      "cell_type": "code",
      "execution_count": null,
      "metadata": {
        "colab": {
          "base_uri": "https://localhost:8080/"
        },
        "id": "czcKbX4KHOUc",
        "outputId": "a7a68cc2-cbba-47ce-cadc-f46194e062b0"
      },
      "outputs": [
        {
          "output_type": "stream",
          "name": "stdout",
          "text": [
            "Ejercicio #1 Calcular distancia\n",
            "Ingrese la velocidad y el tiempo de la unidad móvil\n",
            "Ingrese la velocidad:2\n",
            "Ingrese el tiempo:3\n",
            "La distancia es:6.0\n"
          ]
        }
      ],
      "source": [
        "print(\"Ejercicio #1 Calcular distancia\")\n",
        "print(\"Ingrese la velocidad y el tiempo de la unidad móvil\")\n",
        "v = float(input(\"Ingrese la velocidad:\"))\n",
        "t = float(input(\"Ingrese el tiempo:\"))\n",
        "print(\"La distancia es:\" + str(v*t))"
      ]
    },
    {
      "cell_type": "code",
      "source": [
        "print(\"Ejercicio #2 Promedio de notas\")\n",
        "nota1 = int(input(\"Ingrese la nota 1:\"))\n",
        "nota2 = int(input(\"Ingrese la nota 2:\"))\n",
        "nota3 = int(input(\"Ingrese la nota 3:\"))\n",
        "print(\"El promedio de las notas es: \" + str((nota1 + nota2 + nota3)/3))"
      ],
      "metadata": {
        "colab": {
          "base_uri": "https://localhost:8080/"
        },
        "id": "Vupk-9ylI__A",
        "outputId": "cc6f5ed3-5d96-4bf0-ea25-06ed0d1ff151"
      },
      "execution_count": null,
      "outputs": [
        {
          "output_type": "stream",
          "name": "stdout",
          "text": [
            "Ejercicio #2 Promedio de notas\n",
            "Ingrese la nota 1:82\n",
            "Ingrese la nota 2:70\n",
            "Ingrese la nota 3:90\n",
            "El promedio de las notas es: 80.66666666666667\n"
          ]
        }
      ]
    },
    {
      "cell_type": "code",
      "source": [
        "print(\"Reto\")\n",
        "rc = int(input(\"Ingrese el numero de respuestas correctas:\"))\n",
        "ri = int(input(\"Ingrese el numero de respuestas incorrectas:\"))\n",
        "rb = int(input(\"Ingrese el numero de respuestas en blanco:\"))\n",
        "prc = rc * 3\n",
        "total = prc - ri\n",
        "print(\"El puntaje total es: \" + str(total))"
      ],
      "metadata": {
        "colab": {
          "base_uri": "https://localhost:8080/"
        },
        "id": "oibg1XX5K1of",
        "outputId": "4b654792-13d5-4bca-ef62-88a779b674dd"
      },
      "execution_count": null,
      "outputs": [
        {
          "output_type": "stream",
          "name": "stdout",
          "text": [
            "Reto\n",
            "Ingrese el numero de respuestas correctas:3\n",
            "Ingrese el numero de respuestas incorrectas:2\n",
            "Ingrese el numero de respuestas en blanco:2\n",
            "El puntaje total es: 7\n"
          ]
        }
      ]
    }
  ]
}