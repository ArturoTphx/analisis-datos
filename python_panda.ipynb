{
  "nbformat": 4,
  "nbformat_minor": 0,
  "metadata": {
    "colab": {
      "provenance": [],
      "authorship_tag": "ABX9TyNZY0E8VmbjuZ7N2akHSpba",
      "include_colab_link": true
    },
    "kernelspec": {
      "name": "python3",
      "display_name": "Python 3"
    },
    "language_info": {
      "name": "python"
    }
  },
  "cells": [
    {
      "cell_type": "markdown",
      "metadata": {
        "id": "view-in-github",
        "colab_type": "text"
      },
      "source": [
        "<a href=\"https://colab.research.google.com/github/ArturoTphx/analisis-datos/blob/main/python_panda.ipynb\" target=\"_parent\"><img src=\"https://colab.research.google.com/assets/colab-badge.svg\" alt=\"Open In Colab\"/></a>"
      ]
    },
    {
      "cell_type": "code",
      "execution_count": null,
      "metadata": {
        "colab": {
          "base_uri": "https://localhost:8080/"
        },
        "id": "6R7dTByWW_lD",
        "outputId": "a0792a36-9bcc-4947-a50f-34e80b985074"
      },
      "outputs": [
        {
          "output_type": "stream",
          "name": "stdout",
          "text": [
            "      Country    Capital  Population\n",
            "0  Costa Rica   San José    45000000\n",
            "1       India  New Delhi  1303171035\n",
            "2      Brazil   Brasilia   207847528\n"
          ]
        }
      ],
      "source": [
        "import pandas as pd\n",
        "\n",
        "data = {\n",
        "  'Country': ['Costa Rica', 'India', 'Brazil'],\n",
        "  'Capital': ['San José', 'New Delhi', 'Brasilia'],\n",
        "  'Population': [45000000, 1303171035, 207847528]   \n",
        "}\n",
        "df = pd.DataFrame(data, columns = data.keys())\n",
        "\n",
        "print(df)"
      ]
    },
    {
      "cell_type": "code",
      "source": [
        "print('Promedio de los elementos del vector')\n",
        "suma = 0\n",
        "media = 0\n",
        "temp = []\n",
        "print('Ingrese la cantidad de temperaturas')\n",
        "n = int(input())\n",
        "\n",
        "for i in range(n):\n",
        "  temperatura = float(input(\"Ingrese la temperatura:\\n\"))\n",
        "  temp.append(temperatura)\n",
        "  suma = suma + temp[i]\n",
        "media = suma/n\n",
        "print(media)"
      ],
      "metadata": {
        "colab": {
          "base_uri": "https://localhost:8080/"
        },
        "id": "wQcEGNfDYjdb",
        "outputId": "21909945-7b0f-4d08-94d8-ad6b597337a6"
      },
      "execution_count": null,
      "outputs": [
        {
          "output_type": "stream",
          "name": "stdout",
          "text": [
            "Promedio de los elementos del vector\n",
            "Ingrese la cantidad de temperaturas\n",
            "3\n",
            "Ingrese la temperatura:\n",
            "21\n",
            "Ingrese la temperatura:\n",
            "34\n",
            "Ingrese la temperatura:\n",
            "42\n",
            "32.333333333333336\n"
          ]
        }
      ]
    },
    {
      "cell_type": "code",
      "source": [
        "import pandas as pd\n",
        "\n",
        "mascotas = pd.DataFrame(\n",
        "    data = {\n",
        "      'name': ['Minino','Milo', 'Snoopy', 'Blanco', 'Little Pony'],\n",
        "      'type': ['gato', 'perro', 'perro', 'perro','caballo']\n",
        "    },\n",
        "    index = [71, 42, 11, 98, 42]\n",
        ")\n",
        "\n",
        "visitas = pd.DataFrame(\n",
        "    data = {\n",
        "      'pet_id': [42, 31, 71, 42, 98, 42],\n",
        "      'fecha': ['2019-03-11', '2022-02-12', '2018-04-11', '2015-03-04','2015-05-07', '2022-05-08'],\n",
        "      'costo': [10000, 15000, 14000, 16000, 60000, 13000]   \n",
        "    }\n",
        ")\n",
        "\n",
        "mascotas.index.rename('pet_id', inplace=True)\n",
        "visitas.index.rename('visit_id', inplace=True)\n",
        "\n",
        "print(mascotas.query('pet_id==71'))\n",
        "\n",
        "print(visitas['costo'].sum())\n",
        "print(visitas['costo'].min())\n",
        "print(visitas['costo'].max())\n",
        "\n",
        "print(visitas)\n",
        "\n",
        "print(visitas.sort_values(by='costo', ascending=False))\n",
        "\n",
        "tienda = pd.merge(mascotas, visitas, how='cross')\n",
        "\n",
        "print(tienda)"
      ],
      "metadata": {
        "colab": {
          "base_uri": "https://localhost:8080/"
        },
        "id": "YYhfWzFkbZMU",
        "outputId": "7bd20412-638a-4850-96fa-0a12478a8a6d"
      },
      "execution_count": null,
      "outputs": [
        {
          "output_type": "stream",
          "name": "stdout",
          "text": [
            "          name  type\n",
            "pet_id              \n",
            "71      Minino  gato\n",
            "128000\n",
            "10000\n",
            "60000\n",
            "          pet_id       fecha  costo\n",
            "visit_id                           \n",
            "0             42  2019-03-11  10000\n",
            "1             31  2022-02-12  15000\n",
            "2             71  2018-04-11  14000\n",
            "3             42  2015-03-04  16000\n",
            "4             98  2015-05-07  60000\n",
            "5             42  2022-05-08  13000\n",
            "          pet_id       fecha  costo\n",
            "visit_id                           \n",
            "4             98  2015-05-07  60000\n",
            "3             42  2015-03-04  16000\n",
            "1             31  2022-02-12  15000\n",
            "2             71  2018-04-11  14000\n",
            "5             42  2022-05-08  13000\n",
            "0             42  2019-03-11  10000\n",
            "           name     type  pet_id       fecha  costo\n",
            "0        Minino     gato      42  2019-03-11  10000\n",
            "1        Minino     gato      31  2022-02-12  15000\n",
            "2        Minino     gato      71  2018-04-11  14000\n",
            "3        Minino     gato      42  2015-03-04  16000\n",
            "4        Minino     gato      98  2015-05-07  60000\n",
            "5        Minino     gato      42  2022-05-08  13000\n",
            "6          Milo    perro      42  2019-03-11  10000\n",
            "7          Milo    perro      31  2022-02-12  15000\n",
            "8          Milo    perro      71  2018-04-11  14000\n",
            "9          Milo    perro      42  2015-03-04  16000\n",
            "10         Milo    perro      98  2015-05-07  60000\n",
            "11         Milo    perro      42  2022-05-08  13000\n",
            "12       Snoopy    perro      42  2019-03-11  10000\n",
            "13       Snoopy    perro      31  2022-02-12  15000\n",
            "14       Snoopy    perro      71  2018-04-11  14000\n",
            "15       Snoopy    perro      42  2015-03-04  16000\n",
            "16       Snoopy    perro      98  2015-05-07  60000\n",
            "17       Snoopy    perro      42  2022-05-08  13000\n",
            "18       Blanco    perro      42  2019-03-11  10000\n",
            "19       Blanco    perro      31  2022-02-12  15000\n",
            "20       Blanco    perro      71  2018-04-11  14000\n",
            "21       Blanco    perro      42  2015-03-04  16000\n",
            "22       Blanco    perro      98  2015-05-07  60000\n",
            "23       Blanco    perro      42  2022-05-08  13000\n",
            "24  Little Pony  caballo      42  2019-03-11  10000\n",
            "25  Little Pony  caballo      31  2022-02-12  15000\n",
            "26  Little Pony  caballo      71  2018-04-11  14000\n",
            "27  Little Pony  caballo      42  2015-03-04  16000\n",
            "28  Little Pony  caballo      98  2015-05-07  60000\n",
            "29  Little Pony  caballo      42  2022-05-08  13000\n"
          ]
        }
      ]
    }
  ]
}